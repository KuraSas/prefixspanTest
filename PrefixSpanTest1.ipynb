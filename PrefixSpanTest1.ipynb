{
 "cells": [
  {
   "cell_type": "code",
   "execution_count": 206,
   "metadata": {
    "code_folding": []
   },
   "outputs": [],
   "source": [
    "# 使一个cell输出多个\n",
    "from IPython.core.interactiveshell import InteractiveShell\n",
    "InteractiveShell.ast_node_interactivity = \"all\"\n",
    "\n",
    "# 图片改成白底黑字的模式\n",
    "from jupyterthemes import jtplot\n",
    "jtplot.style(theme='grade3')\n",
    "\n",
    "# 进度条提示\n",
    "from tqdm import tqdm\n",
    "import time\n"
   ]
  },
  {
   "cell_type": "code",
   "execution_count": 362,
   "metadata": {},
   "outputs": [],
   "source": [
    "import itertools\n",
    "import numpy as np\n",
    "import pandas as pd"
   ]
  },
  {
   "cell_type": "markdown",
   "metadata": {},
   "source": [
    "```Python\n",
    "|__PrefixSpan(...)  # PrefixSpan\n",
    "    |__createC1(...)  # 生成初始前缀集合\n",
    "       |__rmLowSup(...) # 删除初始前缀集合中的低support集\n",
    "    |__psGen(...)   # 生成新的候选前缀集\n",
    "    |__genNewPostfixDic(..) # 根据候选集生成新的后缀集合\n",
    "```"
   ]
  },
  {
   "cell_type": "markdown",
   "metadata": {},
   "source": [
    "#### rmLowSup"
   ]
  },
  {
   "cell_type": "code",
   "execution_count": 363,
   "metadata": {
    "code_folding": []
   },
   "outputs": [],
   "source": [
    "def rmLowSup(D,Cx, postfixDic,minSup):\n",
    "    '''根据当前候选集合删除低support的候选集\n",
    "    '''\n",
    "    Lx = Cx\n",
    "    for iset in Cx:\n",
    "        if len(postfixDic[iset])/len(D) < minSup:\n",
    "            Lx.remove(iset)\n",
    "            postfixDic.pop(iset)\n",
    "        \n",
    "    return Lx, postfixDic"
   ]
  },
  {
   "cell_type": "markdown",
   "metadata": {},
   "source": [
    "#### createC1"
   ]
  },
  {
   "cell_type": "code",
   "execution_count": 364,
   "metadata": {},
   "outputs": [],
   "source": [
    "def createC1(D, minSup):\n",
    "    '''生成第一个候选序列，即长度为1的集合序列\n",
    "    '''\n",
    "    C1 = []\n",
    "    postfixDic={}  # 集合对应的每个序列的所在位置的开始位置，{(1,):{0:2,3:1}}表示前缀(1,)在0序列的结尾为2， 3序列的结尾为1\n",
    "    lenD = len(D)\n",
    "\n",
    "    for i in range(lenD):\n",
    "        for idx, item in enumerate(D[i]):\n",
    "            if tuple([item]) not in C1:\n",
    "                postfixDic[tuple([item])]={}\n",
    "                C1.append(tuple([item]))\n",
    "            if i not in postfixDic[tuple([item])].keys():\n",
    "                postfixDic[tuple([item])][i]=idx\n",
    "    \n",
    "    L1, postfixDic = rmLowSup(D, C1, postfixDic, minSup)              \n",
    "    \n",
    "#     print(L1)\n",
    "#     print('\\n')\n",
    "#     print(postfixDic)\n",
    "    return L1, postfixDic"
   ]
  },
  {
   "cell_type": "markdown",
   "metadata": {},
   "source": [
    "#### genNewPostfixDic"
   ]
  },
  {
   "cell_type": "code",
   "execution_count": 365,
   "metadata": {},
   "outputs": [],
   "source": [
    "def genNewPostfixDic(D,Lk, prePost):\n",
    "    '''根据候选集生成相应的PrefixSpan后缀\n",
    "    参数：\n",
    "        D：数据集\n",
    "        Lk: 选出的集合\n",
    "        prePost: 上一个前缀集合的后缀\n",
    "    基于假设：\n",
    "        (1,2)的后缀只能出现在 (1,)的后缀列表里 \n",
    "    e.g.\n",
    "        postifixDic[(1,2)]={1:2,2:3}  前缀 (1,2) 在第一行的结尾是2，第二行的结尾是3\n",
    "    '''\n",
    "    postfixDic = {}\n",
    "\n",
    "    for Ck in Lk:\n",
    "        # (1,2)的后缀只能出现在 (1,)的后缀列表里\n",
    "        postfixDic[Ck]={}\n",
    "        tgt = Ck[-1]\n",
    "        prePostList = prePost[Ck[:-1]]\n",
    "        for r_i in prePostList.keys():\n",
    "            for c_i in range(prePostList[r_i]+1, len(D[r_i])):\n",
    "                if D[r_i][c_i]==tgt:\n",
    "                    postfixDic[Ck][r_i] = c_i\n",
    "                    break\n",
    "                    \n",
    "    return postfixDic"
   ]
  },
  {
   "cell_type": "markdown",
   "metadata": {},
   "source": [
    "#### psGen"
   ]
  },
  {
   "cell_type": "code",
   "execution_count": 366,
   "metadata": {},
   "outputs": [],
   "source": [
    "def psGen(D, Lk, postfixDic, minSup, minConf):\n",
    "    '''生成长度+1的新的候选集合\n",
    "    '''\n",
    "\n",
    "    retList = []\n",
    "    lenD = len(D)\n",
    "    # 访问每一个前缀\n",
    "    for Ck in Lk:\n",
    "        item_count = {}  # 统计item在多少行的后缀里出现\n",
    "        # 访问出现前缀的每一行  \n",
    "        for i in postfixDic[Ck].keys():\n",
    "            # 从前缀开始访问每个字符\n",
    "            item_exsit={}\n",
    "            for j in range(postfixDic[Ck][i]+1, len(D[i])):\n",
    "                if D[i][j] not in item_count.keys():\n",
    "                    item_count[D[i][j]]=0\n",
    "                if D[i][j] not in item_exsit:\n",
    "                    item_count[D[i][j]]+=1\n",
    "                    item_exsit[D[i][j]]=True\n",
    "\n",
    "        c_items = []\n",
    "\n",
    "        # 根据minSup和minConf筛选候选字符\n",
    "        for item in item_count.keys():\n",
    "            if item_count[item]/lenD >= minSup and item_count[item]/len(postfixDic[Ck])>=minConf:\n",
    "                c_items.append(item)\n",
    "        \n",
    "        # 将筛选后的字符组成新的候选项，加入候选集合\n",
    "        for c_item in c_items:\n",
    "            retList.append(Ck+tuple([c_item]))\n",
    "    \n",
    "    return retList"
   ]
  },
  {
   "cell_type": "markdown",
   "metadata": {},
   "source": [
    "#### PrefixSpan"
   ]
  },
  {
   "cell_type": "code",
   "execution_count": 367,
   "metadata": {},
   "outputs": [],
   "source": [
    "def PrefixSpan(D, minSup=0.5, minConf=0.5):\n",
    "\n",
    "    L1, postfixDic = createC1(D, minSup)\n",
    "    L = [L1]\n",
    "    i = 0\n",
    "    while len(L[i])>0:\n",
    "        k = i + 2# k就是Lk的k，代表第几次生成的序列\n",
    "        # 生成新的候选集合\n",
    "        Lk = psGen(D, L[i], postfixDic,minSup, minConf)\n",
    "        # 根据新的候选集合获取新的后缀\n",
    "        postfixDic = genNewPostfixDic(D,Lk,postfixDic)\n",
    "        # 加入到集合中\n",
    "        L.append(Lk)\n",
    "        i = i + 1\n",
    "        \n",
    "\n",
    "    return L"
   ]
  },
  {
   "cell_type": "markdown",
   "metadata": {},
   "source": [
    "#### main"
   ]
  },
  {
   "cell_type": "code",
   "execution_count": 370,
   "metadata": {},
   "outputs": [
    {
     "name": "stdout",
     "output_type": "stream",
     "text": [
      "('b', 'c', 'd') \n",
      "\n",
      "('b', 'e') \n",
      "\n",
      "('b', 'c') \n",
      "\n",
      "('b', 'd') \n",
      "\n",
      "('c', 'd') \n",
      "\n",
      "('b',) \n",
      "\n",
      "('e',) \n",
      "\n",
      "('c',) \n",
      "\n",
      "('d',) \n",
      "\n",
      "[[('b',), ('e',), ('c',), ('d',)], [('b', 'e'), ('b', 'c'), ('b', 'd'), ('c', 'd')], [('b', 'c', 'd')], []]\n"
     ]
    }
   ],
   "source": [
    "data = [\n",
    "    [1, 4, 2, 3],\n",
    "    [0, 1, 2, 3],\n",
    "    [1, 2, 1, 3, 4],\n",
    "    [2, 1, 2, 4, 4],\n",
    "    [1, 1, 1, 2, 3],\n",
    "]\n",
    "# 把01234转换成abcde\n",
    "aaa=[0, 1, 2, 3, 4]\n",
    "ccc={0:'a', 1:'b', 2:'c', 3:'d', 4:'e'}\n",
    "for k in range(len(data)):\n",
    "    data[k]=[ccc[i] if i in ccc else i for i in data[k]]\n",
    "\n",
    "    \n",
    "\n",
    "\n",
    "L = PrefixSpan(data,minSup=0.3,minConf=0.5)\n",
    "for i in range(len(L)-1,-1,-1):\n",
    "    for Cx in L[i]:\n",
    "        print(Cx,'\\n')\n",
    "print(L)"
   ]
  }
 ],
 "metadata": {
  "kernelspec": {
   "display_name": "Python 3",
   "language": "python",
   "name": "python3"
  },
  "language_info": {
   "codemirror_mode": {
    "name": "ipython",
    "version": 3
   },
   "file_extension": ".py",
   "mimetype": "text/x-python",
   "name": "python",
   "nbconvert_exporter": "python",
   "pygments_lexer": "ipython3",
   "version": "3.7.3"
  },
  "toc": {
   "base_numbering": 1,
   "nav_menu": {},
   "number_sections": true,
   "sideBar": false,
   "skip_h1_title": false,
   "title_cell": "Table of Contents",
   "title_sidebar": "Contents",
   "toc_cell": false,
   "toc_position": {
    "height": "281.225px",
    "left": "1371.03px",
    "top": "53.6px",
    "width": "164.975px"
   },
   "toc_section_display": true,
   "toc_window_display": true
  }
 },
 "nbformat": 4,
 "nbformat_minor": 2
}
