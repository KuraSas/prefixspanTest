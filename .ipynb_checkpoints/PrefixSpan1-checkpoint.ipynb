{
 "cells": [
  {
   "cell_type": "code",
   "execution_count": 95,
   "metadata": {},
   "outputs": [],
   "source": [
    "def createCInit(D, minSup):\n",
    "    # 生成第一个候选序列，即长度为1的集合序列\n",
    "    C1 = []\n",
    "    suffixDic={}  # 集合对应的每个序列的所在位置的开始位置，{(1,):{0:2,3:1}}表示前缀(1,)在0序列的结尾为2， 3序列的结尾为1\n",
    "    for i in range(len(D)):\n",
    "        for idx, item in enumerate(D[i]):\n",
    "            if tuple([item]) not in C1:\n",
    "                suffixDic[tuple([item])]={}\n",
    "                C1.append(tuple([item]))\n",
    "            if i not in suffixDic[tuple([item])].keys():\n",
    "                suffixDic[tuple([item])][i]=idx\n",
    "    # 根据当前候选集合删除低support的候选集 得到高于支持度的集合\n",
    "\n",
    "    L1 = C1.copy()# 必须替换一个进行copy操作\n",
    "    for iset in C1:\n",
    "        if (len(suffixDic[iset])/len(D)) < minSup:\n",
    "            L1.remove(iset)\n",
    "            suffixDic.pop(iset)\n",
    "    return L1, suffixDic"
   ]
  },
  {
   "cell_type": "code",
   "execution_count": 79,
   "metadata": {},
   "outputs": [],
   "source": [
    "def genNewFixAndFixDict(D, Lk, suffixDic, minSup):\n",
    "    # 生成长度+1的新的候选集合\n",
    "    newLk = []\n",
    "    # 访问每一个前缀\n",
    "    for Ck in Lk:\n",
    "    #     print(\"\\n---------------------------------------------------------------------------------------------\\n\")\n",
    "        itemAllCount = {}  # 统计item的支持度计数\n",
    "        # 访问出现前缀的每一行  \n",
    "        for i in suffixDic[Ck].keys():\n",
    "            # Ck是('b',)形式C\n",
    "            # 从前缀开始访问每个字符\n",
    "            itemThisRow = {}# 统计item每一行后缀的情况\n",
    "            # suffixDic[Ck]是一个字典，i是key，suffixDic[Ck][i]是对应的后缀的位置，也是对应data里的行数\n",
    "    #         print(\"\\n\")\n",
    "    #         print(Ck,\"到第%d行为止\"%i)\n",
    "            for j in range(suffixDic[Ck][i] + 1, len(D[i])):\n",
    "                if D[i][j] not in itemAllCount.keys():\n",
    "                    itemAllCount[D[i][j]] = 0\n",
    "                if D[i][j] not in itemThisRow.keys():\n",
    "                    itemAllCount[D[i][j]] = itemAllCount[D[i][j]] + 1# 支持度计数加一\n",
    "                    itemThisRow[D[i][j]] = True\n",
    "\n",
    "    #             print(itemAllCount,\"---------------------\",itemThisRow)\n",
    "\n",
    "        c_itemList = []\n",
    "        # 根据minSup筛选候选字符\n",
    "        for item in itemAllCount.keys():\n",
    "            if itemAllCount[item]/len(D) >= minSup:\n",
    "                c_itemList.append(item) \n",
    "\n",
    "        # 将筛选后的字符组成新的候选项，加入候选集合\n",
    "        for c_item in c_itemList:\n",
    "            newLk.append(Ck+tuple([c_item]))\n",
    "\n",
    "    #     print(\"--------------------\")\n",
    "    #     print(returnList)\n",
    "    #     print(suffixDic)\n",
    "    #     print(\"--------------------\")\n",
    "    #     print(\"\\n\")\n",
    "    oldSuf = suffixDic\n",
    "    newSuffixDic = {}\n",
    "    for Ck in newLk:\n",
    "        newSuffixDic[Ck]={}\n",
    "        tgt = Ck[-1]\n",
    "        oldSufLocList = oldSuf[Ck[:-1]]#切片倒数第二个，新加的后缀的前一个\n",
    "        for i in oldSufLocList.keys():\n",
    "            for j in range(oldSufLocList[i]+1, len(D[i])):\n",
    "                if D[i][j] == tgt:\n",
    "                    newSuffixDic[Ck][i] = j\n",
    "                    break\n",
    "\n",
    "    return newLk, newSuffixDic"
   ]
  },
  {
   "cell_type": "code",
   "execution_count": 98,
   "metadata": {},
   "outputs": [
    {
     "name": "stdout",
     "output_type": "stream",
     "text": [
      "[[('b',), ('e',), ('c',), ('d',)], [('b', 'e'), ('b', 'c'), ('b', 'd'), ('b', 'b'), ('c', 'd'), ('c', 'b'), ('c', 'e')], [('b', 'c', 'd'), ('b', 'c', 'e'), ('b', 'b', 'd'), ('c', 'b', 'e')], []]\n"
     ]
    }
   ],
   "source": [
    "data = [\n",
    "    ['b', 'e', 'c', 'd', 'p'],\n",
    "    ['a', 'b', 'c', 'd'],\n",
    "    ['b', 'c', 'b', 'd', 'e'],\n",
    "    ['n', 'c', 'b', 'z', 'c', 'e', 'e', 'o', 'h'],\n",
    "    ['b', 'b', 'b', 'c', 'd', 'g',]\n",
    "]\n",
    "D = data\n",
    "minSup = 0.3\n",
    "L1, suffixDic = createCInit(D, minSup)\n",
    "L = [L1]\n",
    "i = 0\n",
    "while len(L[i])>0:\n",
    "    k = i + 2# k就是Lk的k，代表第几次生成的序列\n",
    "    # 生成新的候选集合\n",
    "    # 根据新的候选集合获取新的后缀\n",
    "    Lk,suffixDic = genNewFixAndFixDict(D, L[i], suffixDic,minSup)\n",
    "    # 加入到集合中\n",
    "    L.append(Lk)\n",
    "    i = i + 1\n",
    "print(L)"
   ]
  }
 ],
 "metadata": {
  "kernelspec": {
   "display_name": "Python 3",
   "language": "python",
   "name": "python3"
  },
  "language_info": {
   "codemirror_mode": {
    "name": "ipython",
    "version": 3
   },
   "file_extension": ".py",
   "mimetype": "text/x-python",
   "name": "python",
   "nbconvert_exporter": "python",
   "pygments_lexer": "ipython3",
   "version": "3.7.3"
  },
  "toc": {
   "base_numbering": 1,
   "nav_menu": {},
   "number_sections": true,
   "sideBar": true,
   "skip_h1_title": false,
   "title_cell": "Table of Contents",
   "title_sidebar": "Contents",
   "toc_cell": false,
   "toc_position": {},
   "toc_section_display": true,
   "toc_window_display": false
  }
 },
 "nbformat": 4,
 "nbformat_minor": 2
}
